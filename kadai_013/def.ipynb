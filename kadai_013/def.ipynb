{
  "nbformat": 4,
  "nbformat_minor": 0,
  "metadata": {
    "colab": {
      "provenance": []
    },
    "kernelspec": {
      "name": "python3",
      "display_name": "Python 3"
    },
    "language_info": {
      "name": "python"
    }
  },
  "cells": [
    {
      "cell_type": "code",
      "execution_count": 26,
      "metadata": {
        "colab": {
          "base_uri": "https://localhost:8080/"
        },
        "id": "cFycepBCIFp-",
        "outputId": "072eaee0-f33f-475d-c363-e26ce1145544"
      },
      "outputs": [
        {
          "output_type": "execute_result",
          "data": {
            "text/plain": [
              "121.0"
            ]
          },
          "metadata": {},
          "execution_count": 26
        }
      ],
      "source": [
        "# 商品金額priceに消費税consumption_taxを加算し計算結果を返す\n",
        "def add_two_arguments(price: int, consumption_tax: int)  -> float:\n",
        "    # 計算結果を戻り値として返す\n",
        "    return price + (price * consumption_tax / 100)\n",
        "\n",
        "# 関数を呼び出し、引数として商品の金額と消費税を渡す\n",
        "add_two_arguments(110, 10)"
      ]
    }
  ]
}