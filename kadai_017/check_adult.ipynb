{
  "nbformat": 4,
  "nbformat_minor": 0,
  "metadata": {
    "colab": {
      "provenance": []
    },
    "kernelspec": {
      "name": "python3",
      "display_name": "Python 3"
    },
    "language_info": {
      "name": "python"
    }
  },
  "cells": [
    {
      "cell_type": "code",
      "source": [
        "class Human:\n",
        "    # コンストラクタを定義する\n",
        "    def __init__(self, name, age):\n",
        "        self.name = name\n",
        "        self.age = age\n",
        "\n",
        "    # 成人判定結果を標準出力するメソッドを作成する\n",
        "    def check_adult(self):\n",
        "        # 年齢が20以上なら「大人です」を出力する\n",
        "        if self.age >= 20:\n",
        "            print(\"大人です。\")\n",
        "        # 年齢が20より小さいなら「大人ではありません」を出力する\n",
        "        else:\n",
        "            print(\"大人ではありません。\")\n",
        "\n",
        "# インスタンスをリストに格納する\n",
        "people = [Human(\"侍太郎\", 36), Human(\"侍花子\", 17), Human(\"侍次郎\", 22), Human(\"侍さくら\", 9)]\n",
        "\n",
        "# 要素の数だけメソッドを呼び出す\n",
        "for human in people:\n",
        "    human.check_adult()"
      ],
      "metadata": {
        "id": "uW5odq3c0o8J",
        "outputId": "fbb3417d-7596-4586-f573-717371938269",
        "colab": {
          "base_uri": "https://localhost:8080/"
        }
      },
      "execution_count": 27,
      "outputs": [
        {
          "output_type": "stream",
          "name": "stdout",
          "text": [
            "大人です。\n",
            "大人ではありません。\n",
            "大人です。\n",
            "大人ではありません。\n"
          ]
        }
      ]
    }
  ]
}