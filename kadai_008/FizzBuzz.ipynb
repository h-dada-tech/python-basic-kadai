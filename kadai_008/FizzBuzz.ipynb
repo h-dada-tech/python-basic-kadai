{
  "nbformat": 4,
  "nbformat_minor": 0,
  "metadata": {
    "colab": {
      "provenance": []
    },
    "kernelspec": {
      "name": "python3",
      "display_name": "Python 3"
    },
    "language_info": {
      "name": "python"
    }
  },
  "cells": [
    {
      "cell_type": "code",
      "execution_count": 34,
      "metadata": {
        "colab": {
          "base_uri": "https://localhost:8080/"
        },
        "id": "pdlRG9xICjv2",
        "outputId": "0e5f19a7-d66c-40ae-9b88-d7df2445af76"
      },
      "outputs": [
        {
          "output_type": "stream",
          "name": "stdout",
          "text": [
            "FizzBuzz\n"
          ]
        }
      ],
      "source": [
        "var = 15\n",
        "\n",
        "# 変数varが、3の倍数の場合は「Fizz」を出力\n",
        "if var % 3 == 0 and num % 15 != 0:\n",
        "    print(\"Fizz\")\n",
        "# 変数varが、5の倍数の場合は「Buzz」を出力\n",
        "elif var % 5 == 0 and num % 15 != 0:\n",
        "    print(\"Buzz\")\n",
        "# 変数varが、3の倍数と5の倍数の両方に該当する場合は「FizzBuzz」を出力\n",
        "elif var % 15 == 0:\n",
        "    print(\"FizzBuzz\")\n",
        "else:\n",
        "    print(num)"
      ]
    }
  ]
}