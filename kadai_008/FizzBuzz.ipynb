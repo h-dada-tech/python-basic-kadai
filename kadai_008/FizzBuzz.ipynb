{
  "nbformat": 4,
  "nbformat_minor": 0,
  "metadata": {
    "colab": {
      "provenance": []
    },
    "kernelspec": {
      "name": "python3",
      "display_name": "Python 3"
    },
    "language_info": {
      "name": "python"
    }
  },
  "cells": [
    {
      "cell_type": "code",
      "execution_count": 33,
      "metadata": {
        "colab": {
          "base_uri": "https://localhost:8080/"
        },
        "id": "pdlRG9xICjv2",
        "outputId": "732afd8c-806d-4db8-db22-626754d9be3f"
      },
      "outputs": [
        {
          "output_type": "stream",
          "name": "stdout",
          "text": [
            "FizzBuzz\n"
          ]
        }
      ],
      "source": [
        "num = 15\n",
        "\n",
        "# 変数varが、3の倍数の場合は「Fizz」を出力\n",
        "if num % 3 == 0 and num % 15 != 0:\n",
        "    print(\"Fizz\")\n",
        "# 変数varが、5の倍数の場合は「Buzz」を出力\n",
        "elif num % 5 == 0 and num % 15 != 0:\n",
        "    print(\"Buzz\")\n",
        "# 変数varが、3の倍数と5の倍数の両方に該当する場合は「FizzBuzz」を出力\n",
        "elif num % 15 == 0:\n",
        "    print(\"FizzBuzz\")\n",
        "else:\n",
        "    print(num)"
      ]
    }
  ]
}