{
  "nbformat": 4,
  "nbformat_minor": 0,
  "metadata": {
    "colab": {
      "provenance": []
    },
    "kernelspec": {
      "name": "python3",
      "display_name": "Python 3"
    },
    "language_info": {
      "name": "python"
    }
  },
  "cells": [
    {
      "cell_type": "code",
      "execution_count": 3,
      "metadata": {
        "colab": {
          "base_uri": "https://localhost:8080/"
        },
        "id": "kBY1KgDDhPfJ",
        "outputId": "0a420a83-550b-45ef-842f-8df65fae84bb"
      },
      "outputs": [
        {
          "output_type": "stream",
          "name": "stdout",
          "text": [
            "名前： 侍太郎\n",
            "年齢： 30\n"
          ]
        }
      ],
      "source": [
        "class Human:\n",
        "    # コンストラクタを定義する\n",
        "    def __init__(self, name, age):\n",
        "        self.name = name\n",
        "        self.age = age\n",
        "\n",
        "    # printinfoメソッドを作成する\n",
        "    def printinfo(self):\n",
        "        print(\"名前：\", self.name)\n",
        "        print(\"年齢：\", self.age)\n",
        "\n",
        "# printinfoメソッドを実行し名前と年齢を標準出力する\n",
        "human = Human(\"侍太郎\", 30)\n",
        "human.printinfo()"
      ]
    }
  ]
}