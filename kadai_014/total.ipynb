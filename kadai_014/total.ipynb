{
  "nbformat": 4,
  "nbformat_minor": 0,
  "metadata": {
    "colab": {
      "provenance": []
    },
    "kernelspec": {
      "name": "python3",
      "display_name": "Python 3"
    },
    "language_info": {
      "name": "python"
    }
  },
  "cells": [
    {
      "cell_type": "code",
      "execution_count": 12,
      "metadata": {
        "colab": {
          "base_uri": "https://localhost:8080/"
        },
        "id": "WVhq77sgU83h",
        "outputId": "4dc8666c-9c34-46dd-bf2b-0b2c92102319"
      },
      "outputs": [
        {
          "output_type": "stream",
          "name": "stdout",
          "text": [
            "330.0\n"
          ]
        }
      ],
      "source": [
        "# グローバル変数を定義する\n",
        "# price1 = 100\n",
        "# price2 = 200\n",
        "tax = 1.1\n",
        "\n",
        "def total() -> int:\n",
        "    # ローカル変数を定義する\n",
        "    price1 = 100\n",
        "    price2 = 200\n",
        "    # tax = 1.1\n",
        "    # 商品金額の計算結果を戻す\n",
        "    return price1 + price2\n",
        "\n",
        "print (total() * tax)"
      ]
    }
  ]
}