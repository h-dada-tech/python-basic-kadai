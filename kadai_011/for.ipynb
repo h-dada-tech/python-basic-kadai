{
  "nbformat": 4,
  "nbformat_minor": 0,
  "metadata": {
    "colab": {
      "provenance": []
    },
    "kernelspec": {
      "name": "python3",
      "display_name": "Python 3"
    },
    "language_info": {
      "name": "python"
    }
  },
  "cells": [
    {
      "cell_type": "code",
      "source": [
        "array = [\"水\",\"金\",\"地\",\"火\",\"木\",\"土\",\"天\",\"海\",\"冥\"]\n",
        "\n",
        "# カウンタ変数を用意する\n",
        "i = 0\n",
        "\n",
        "# リストの中身を先頭から全て取り出して順番に出力する\n",
        "for var in range(1, 19):\n",
        "    # 配列arrayの現在の値を出力する\n",
        "    print(array[i])\n",
        "    # カウンタ変数の値が8以上ならカウンタ変数をクリアする、8より小さいなら「カウンタ変数の値を1増やす\n",
        "    if i > 7:\n",
        "      i = 0\n",
        "    else:\n",
        "      i = i + 1"
      ],
      "metadata": {
        "id": "vBWd6Kxy93Ed",
        "colab": {
          "base_uri": "https://localhost:8080/"
        },
        "outputId": "53a04531-9a47-4806-d147-6a66e9d88dd3"
      },
      "execution_count": 46,
      "outputs": [
        {
          "output_type": "stream",
          "name": "stdout",
          "text": [
            "水\n",
            "金\n",
            "地\n",
            "火\n",
            "木\n",
            "土\n",
            "天\n",
            "海\n",
            "冥\n",
            "水\n",
            "金\n",
            "地\n",
            "火\n",
            "木\n",
            "土\n",
            "天\n",
            "海\n",
            "冥\n"
          ]
        }
      ]
    }
  ]
}