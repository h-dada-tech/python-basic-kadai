{
  "nbformat": 4,
  "nbformat_minor": 0,
  "metadata": {
    "colab": {
      "provenance": []
    },
    "kernelspec": {
      "name": "python3",
      "display_name": "Python 3"
    },
    "language_info": {
      "name": "python"
    }
  },
  "cells": [
    {
      "cell_type": "code",
      "execution_count": 5,
      "metadata": {
        "colab": {
          "base_uri": "https://localhost:8080/"
        },
        "id": "WcVHigMlnn_A",
        "outputId": "16c660b3-db8a-4ea4-d7b1-cc316c8a570f"
      },
      "outputs": [
        {
          "output_type": "stream",
          "name": "stdout",
          "text": [
            "水\n",
            "金\n",
            "地\n",
            "火\n",
            "木\n",
            "土\n",
            "天\n",
            "海\n",
            "冥\n",
            "水\n",
            "金\n",
            "地\n",
            "火\n",
            "木\n",
            "土\n",
            "天\n",
            "海\n",
            "冥\n"
          ]
        }
      ],
      "source": [
        "array = [\"水\",\"金\",\"地\",\"火\",\"木\",\"土\",\"天\",\"海\",\"冥\"]\n",
        "\n",
        "target = array[8]\n",
        "\n",
        "# カウンタ変数を用意する\n",
        "i = 0\n",
        "\n",
        "#カウンタ変数iの値が16以下の間、配列arrayの値を出力し続ける\n",
        "while i < 18:\n",
        "    # カウンタ変数iの値が8以下であれば、配列array[i]\n",
        "    if i < 9:\n",
        "      # 配列arrayの現在の値を出力する\n",
        "      print(array[i])\n",
        "      #　カウンタ変数の値を1増やす\n",
        "      i = i + 1\n",
        "    else:\n",
        "      # 配列array[i]から-9した値を出力する\n",
        "      print(array[i-9])\n",
        "      #　カウンタ変数の値を1増やす\n",
        "      i = i + 1"
      ]
    }
  ]
}